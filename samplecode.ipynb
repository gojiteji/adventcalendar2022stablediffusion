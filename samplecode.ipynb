{
  "cells": [
    {
      "cell_type": "markdown",
      "metadata": {
        "id": "view-in-github",
        "colab_type": "text"
      },
      "source": [
        "<a href=\"https://colab.research.google.com/github/gojiteji/text2QR/blob/main/samplecode.ipynb\" target=\"_parent\"><img src=\"https://colab.research.google.com/assets/colab-badge.svg\" alt=\"Open In Colab\"/></a>"
      ]
    },
    {
      "cell_type": "code",
      "source": [
        "! git clone https://github.com/gojiteji/stable-diffusion\n",
        "%cd stable-diffusion\n",
        "!pip install -r requirements.txt\n",
        "!git lfs install"
      ],
      "metadata": {
        "id": "uufNqPup2bXt",
        "outputId": "e55959bf-9799-449d-98b0-130ef0046690",
        "colab": {
          "base_uri": "https://localhost:8080/"
        }
      },
      "execution_count": 3,
      "outputs": [
        {
          "output_type": "stream",
          "name": "stdout",
          "text": [
            "/content/stable-diffusion\n"
          ]
        }
      ]
    },
    {
      "cell_type": "code",
      "source": [
        "! git clone https://huggingface.co/gojiteji/text2QR"
      ],
      "metadata": {
        "id": "5fNv5UTY3S5e",
        "outputId": "cfce6400-9818-4b3a-c7fb-7d11638ea61f",
        "colab": {
          "base_uri": "https://localhost:8080/"
        }
      },
      "execution_count": null,
      "outputs": [
        {
          "output_type": "stream",
          "name": "stdout",
          "text": [
            "Cloning into 'text2QR'...\n",
            "remote: Enumerating objects: 26, done.\u001b[K\n",
            "remote: Counting objects: 100% (26/26), done.\u001b[K\n",
            "remote: Compressing objects: 100% (24/24), done.\u001b[K\n",
            "remote: Total 26 (delta 6), reused 1 (delta 0), pack-reused 0\u001b[K\n",
            "Unpacking objects: 100% (26/26), done.\n"
          ]
        }
      ]
    },
    {
      "cell_type": "code",
      "source": [
        "# Run the model\n",
        "!(python scripts/txt2img.py \\\n",
        "    --prompt 'NAIST is a good place.' \\\n",
        "    --outdir 'outputs/generated_qr' \\\n",
        "    --H 256 --W 256 \\\n",
        "    --n_samples 4 \\\n",
        "    --config 'configs/stable-diffusion/text2QR.yaml' \\\n",
        "    --ckpt 'text2QR/main.ckpt')"
      ],
      "metadata": {
        "id": "DTmAq0pv3drv"
      },
      "execution_count": null,
      "outputs": []
    }
  ],
  "metadata": {
    "colab": {
      "name": "scratchpad",
      "provenance": [],
      "include_colab_link": true
    },
    "kernelspec": {
      "display_name": "Python 3",
      "name": "python3"
    },
    "accelerator": "GPU",
    "gpuClass": "standard"
  },
  "nbformat": 4,
  "nbformat_minor": 0
}